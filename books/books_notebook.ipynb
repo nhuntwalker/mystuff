{
 "cells": [
  {
   "cell_type": "markdown",
   "metadata": {},
   "source": [
    "#Predicting on Google Books\n",
    "<strong>Author:</strong> Nicholas Hunt-Walker<br/>\n",
    "<strong>Desires:</strong>\n",
    "- Get a list of subjects from google books\n",
    "- Get at least 100 books from each subject\n",
    "- Organize books into a sensible schema\n",
    "- Test classifiers on books to predict"
   ]
  },
  {
   "cell_type": "code",
   "execution_count": 1,
   "metadata": {
    "collapsed": true
   },
   "outputs": [],
   "source": [
    "import urllib2\n",
    "from bs4 import BeautifulSoup\n",
    "import json\n",
    "import pandas as pd"
   ]
  },
  {
   "cell_type": "code",
   "execution_count": 4,
   "metadata": {
    "collapsed": true
   },
   "outputs": [],
   "source": [
    "subject_list = [\"physics\", \"math\", \"astronomy\", \"chemistry\", \"biology\", \"geology\", \"fantasy\", \"philosophy\"]"
   ]
  },
  {
   "cell_type": "code",
   "execution_count": 5,
   "metadata": {
    "collapsed": false
   },
   "outputs": [],
   "source": [
    "my_books = []\n",
    "subject_stats = {}"
   ]
  },
  {
   "cell_type": "code",
   "execution_count": 6,
   "metadata": {
    "collapsed": false
   },
   "outputs": [],
   "source": [
    "def filter_books(retrieved_booklist, master_booklist):\n",
    "    for item in retrieved_booklist[\"items\"]:\n",
    "        if (\"averageRating\" in item[\"volumeInfo\"].keys()) and (\"retailPrice\" in item[\"saleInfo\"].keys()):\n",
    "            master_booklist.append(item)\n",
    "    \n",
    "    return master_booklist"
   ]
  },
  {
   "cell_type": "code",
   "execution_count": 7,
   "metadata": {
    "collapsed": false
   },
   "outputs": [],
   "source": [
    "def download_books(subject, master_booklist):\n",
    "    retrieve_these = \"https://www.googleapis.com/books/v1/volumes?q=subject:{0}&maxResults=40&printType=books\".format(subject)\n",
    "    the_json_info = urllib2.urlopen(retrieve_these)\n",
    "    data = json.loads(the_json_info.read())\n",
    "    book_total = data[\"totalItems\"]\n",
    "    \n",
    "    if subject not in subject_stats.keys():\n",
    "        subject_stats[subject] = book_total\n",
    "    \n",
    "    master_booklist = filter_books(data, master_booklist)\n",
    "    return master_booklist"
   ]
  },
  {
   "cell_type": "code",
   "execution_count": 8,
   "metadata": {
    "collapsed": false
   },
   "outputs": [],
   "source": [
    "for subject in subject_list:\n",
    "    my_books = download_books(subject, my_books)"
   ]
  },
  {
   "cell_type": "code",
   "execution_count": 9,
   "metadata": {
    "collapsed": false
   },
   "outputs": [
    {
     "data": {
      "text/plain": [
       "26"
      ]
     },
     "execution_count": 9,
     "metadata": {},
     "output_type": "execute_result"
    }
   ],
   "source": [
    "len(my_books)"
   ]
  },
  {
   "cell_type": "code",
   "execution_count": 10,
   "metadata": {
    "collapsed": false
   },
   "outputs": [
    {
     "data": {
      "text/plain": [
       "{'astronomy': 925,\n",
       " 'biology': 903,\n",
       " 'chemistry': 890,\n",
       " 'fantasy': 920,\n",
       " 'geology': 886,\n",
       " 'math': 5,\n",
       " 'philosophy': 933,\n",
       " 'physics': 842}"
      ]
     },
     "execution_count": 10,
     "metadata": {},
     "output_type": "execute_result"
    }
   ],
   "source": [
    "subject_stats"
   ]
  },
  {
   "cell_type": "markdown",
   "metadata": {},
   "source": [
    "Next step: modify \"download_books\" to search for ALL books in a subject based on how many are in book total. If (index + 1) x 40 is less than book_total, then just run the normal search. If not, make the number searched for equal to book_total - index x 40. Start with index = 0.\n",
    "\n",
    "Also just incorporate the subject list into download_books. Encapsulate!"
   ]
  },
  {
   "cell_type": "code",
   "execution_count": null,
   "metadata": {
    "collapsed": true
   },
   "outputs": [],
   "source": []
  }
 ],
 "metadata": {
  "kernelspec": {
   "display_name": "Python 2",
   "language": "python",
   "name": "python2"
  },
  "language_info": {
   "codemirror_mode": {
    "name": "ipython",
    "version": 2
   },
   "file_extension": ".py",
   "mimetype": "text/x-python",
   "name": "python",
   "nbconvert_exporter": "python",
   "pygments_lexer": "ipython2",
   "version": "2.7.10"
  }
 },
 "nbformat": 4,
 "nbformat_minor": 0
}
