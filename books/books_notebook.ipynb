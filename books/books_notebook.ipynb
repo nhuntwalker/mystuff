{
 "cells": [
  {
   "cell_type": "markdown",
   "metadata": {},
   "source": [
    "#Predicting on Google Books\n",
    "<strong>Author:</strong> Nicholas Hunt-Walker<br/>\n",
    "<strong>Desires:</strong>\n",
    "- Get a list of subjects from google books\n",
    "- Get at least 100 books from each subject\n",
    "- Organize books into a sensible schema\n",
    "- Test classifiers on books to predict"
   ]
  },
  {
   "cell_type": "code",
   "execution_count": 23,
   "metadata": {
    "collapsed": true
   },
   "outputs": [],
   "source": [
    "import urllib2\n",
    "from bs4 import BeautifulSoup\n",
    "import json\n",
    "import pandas as pd"
   ]
  },
  {
   "cell_type": "code",
   "execution_count": null,
   "metadata": {
    "collapsed": true
   },
   "outputs": [],
   "source": [
    "subject_list = [\"physics\"]"
   ]
  },
  {
   "cell_type": "code",
   "execution_count": 2,
   "metadata": {
    "collapsed": true
   },
   "outputs": [],
   "source": [
    "my_url = r\"https://www.googleapis.com/books/v1/volumes?q=subject:physics&maxResults=40&printType=books\""
   ]
  },
  {
   "cell_type": "code",
   "execution_count": 15,
   "metadata": {
    "collapsed": false
   },
   "outputs": [],
   "source": [
    "f = urllib2.urlopen(my_url)\n",
    "data = json.loads(f.read())"
   ]
  },
  {
   "cell_type": "code",
   "execution_count": 42,
   "metadata": {
    "collapsed": false
   },
   "outputs": [],
   "source": [
    "my_books = []"
   ]
  },
  {
   "cell_type": "code",
   "execution_count": 41,
   "metadata": {
    "collapsed": false
   },
   "outputs": [],
   "source": [
    "def filter_books(retrieved_booklist, master_booklist):\n",
    "    for item in retrieved_booklist[\"items\"]:\n",
    "        if (\"averageRating\" in item[\"volumeInfo\"].keys()) and (\"retailPrice\" in item[\"saleInfo\"].keys()):\n",
    "            master_booklist.append(item)\n",
    "    \n",
    "    return master_booklist"
   ]
  },
  {
   "cell_type": "code",
   "execution_count": 45,
   "metadata": {
    "collapsed": false
   },
   "outputs": [
    {
     "data": {
      "text/plain": [
       "5"
      ]
     },
     "execution_count": 45,
     "metadata": {},
     "output_type": "execute_result"
    }
   ],
   "source": [
    "def download_books(subject, master_booklist):\n",
    "    retrieve_these = \"https://www.googleapis.com/books/v1/volumes?q=subject:{0}&maxResults=40&printType=books\".format(subject)\n",
    "    the_json_info = urllib2.urlopen(retrieve_these)\n",
    "    data = json.loads(the_json_info.read)\n",
    "    master_booklist = "
   ]
  },
  {
   "cell_type": "code",
   "execution_count": 43,
   "metadata": {
    "collapsed": true
   },
   "outputs": [],
   "source": [
    "my_books = filter_books(data, my_books)"
   ]
  },
  {
   "cell_type": "code",
   "execution_count": 48,
   "metadata": {
    "collapsed": false
   },
   "outputs": [
    {
     "data": {
      "text/plain": [
       "int"
      ]
     },
     "execution_count": 48,
     "metadata": {},
     "output_type": "execute_result"
    }
   ],
   "source": [
    "type(data['totalItems'])"
   ]
  },
  {
   "cell_type": "code",
   "execution_count": null,
   "metadata": {
    "collapsed": true
   },
   "outputs": [],
   "source": []
  }
 ],
 "metadata": {
  "kernelspec": {
   "display_name": "Python 2",
   "language": "python",
   "name": "python2"
  },
  "language_info": {
   "codemirror_mode": {
    "name": "ipython",
    "version": 2
   },
   "file_extension": ".py",
   "mimetype": "text/x-python",
   "name": "python",
   "nbconvert_exporter": "python",
   "pygments_lexer": "ipython2",
   "version": "2.7.10"
  }
 },
 "nbformat": 4,
 "nbformat_minor": 0
}
