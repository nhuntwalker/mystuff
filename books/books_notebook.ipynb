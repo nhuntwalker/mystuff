{
 "cells": [
  {
   "cell_type": "markdown",
   "metadata": {},
   "source": [
    "#Predicting on Google Books\n",
    "<strong>Author:</strong> Nicholas Hunt-Walker<br/>\n",
    "<strong>Desires:</strong>\n",
    "- Get a list of words from the [top english verbs](http://www.acme2k.co.uk/acme/3star%20verbs.htm)\n",
    "- For each word, search google blooks\n",
    "- Organize books into a sensible schema\n",
    "- Test classifiers on books to predict"
   ]
  },
  {
   "cell_type": "code",
   "execution_count": 1,
   "metadata": {
    "collapsed": false
   },
   "outputs": [],
   "source": [
    "import urllib2\n",
    "from bs4 import BeautifulSoup as bs\n",
    "import json\n",
    "import pandas as pd\n",
    "from admin.admin import booksAPIkey\n",
    "import time\n",
    "from pymongo import MongoClient"
   ]
  },
  {
   "cell_type": "code",
   "execution_count": 2,
   "metadata": {
    "collapsed": true
   },
   "outputs": [],
   "source": [
    "words_url = \"http://www.acme2k.co.uk/acme/3star%20verbs.htm\"\n",
    "words_page = urllib2.urlopen(words_url)"
   ]
  },
  {
   "cell_type": "code",
   "execution_count": 3,
   "metadata": {
    "collapsed": false
   },
   "outputs": [],
   "source": [
    "soup = bs(words_page)\n",
    "words = soup.findAll(\"font\", attrs={\"color\":\"#0000CC\"})\n",
    "word_list = [str(word.get_text()) for word in words]"
   ]
  },
  {
   "cell_type": "code",
   "execution_count": 4,
   "metadata": {
    "collapsed": false
   },
   "outputs": [],
   "source": [
    "my_books = []\n",
    "title_list = []\n",
    "subject_stats = {}"
   ]
  },
  {
   "cell_type": "code",
   "execution_count": 5,
   "metadata": {
    "collapsed": false
   },
   "outputs": [],
   "source": [
    "def filter_books(retrieved_booklist, master_booklist):\n",
    "    for item in retrieved_booklist[\"items\"]:\n",
    "        if (\"averageRating\" in item[\"volumeInfo\"].keys()) & (item[\"volumeInfo\"][\"title\"] not in title_list):\n",
    "#         if item[\"volumeInfo\"][\"title\"] not in title_list:\n",
    "            master_booklist.append(item)\n",
    "            title_list.append(item[\"volumeInfo\"][\"title\"])\n",
    "    \n",
    "    return master_booklist"
   ]
  },
  {
   "cell_type": "code",
   "execution_count": 6,
   "metadata": {
    "collapsed": true
   },
   "outputs": [],
   "source": [
    "def get_data(idx, amt_per_page, keyword):\n",
    "    the_url = \"https://www.googleapis.com/books/v1/volumes?q={0}&maxResults={1}&printType=books&startIndex={2}&key={3}\".format(keyword, amt_per_page, idx, booksAPIkey)\n",
    "    the_json_info = urllib2.urlopen(the_url)\n",
    "    data = json.loads(the_json_info.read())\n",
    "    time.sleep(5)\n",
    "    return data"
   ]
  },
  {
   "cell_type": "code",
   "execution_count": 7,
   "metadata": {
    "collapsed": false
   },
   "outputs": [],
   "source": [
    "def download_books(keyword, master_booklist):\n",
    "    per_page = 40\n",
    "    data = get_data(0, 10, keyword)\n",
    "    book_total = data[\"totalItems\"]\n",
    "\n",
    "    if keyword not in subject_stats.keys():\n",
    "        print keyword\n",
    "        subject_stats[keyword] = book_total\n",
    "\n",
    "    max_pages = book_total / per_page + 1\n",
    "    for ii in range(20):\n",
    "        data = get_data((ii*per_page) + 1, per_page, keyword)\n",
    "        master_booklist = filter_books(data, master_booklist)\n",
    "    \n",
    "    return master_booklist"
   ]
  },
  {
   "cell_type": "code",
   "execution_count": null,
   "metadata": {
    "collapsed": false,
    "scrolled": false
   },
   "outputs": [],
   "source": [
    "t0 = time.time()\n",
    "for keyword in word_list[:10]:\n",
    "    try:\n",
    "        my_books = download_books(keyword, my_books)\n",
    "        \n",
    "    except urllib2.HTTPError:\n",
    "        print \"Encountered an HTTPError {0} seconds after the loop has started.\\nPausing for 1 minute.\".format(time.time() - t0)\n",
    "        time.sleep(60)\n",
    "        print \"Resuming production\"\n",
    "        my_books = download_books(keyword, my_books)"
   ]
  },
  {
   "cell_type": "code",
   "execution_count": null,
   "metadata": {
    "collapsed": false
   },
   "outputs": [],
   "source": [
    "len(my_books)"
   ]
  },
  {
   "cell_type": "markdown",
   "metadata": {},
   "source": [
    "Alright so I can ping google books and get stuff. Next steps:\n",
    "- get books for every word in my verb list\n",
    "- get results into pymongo\n",
    "- also save list as a text file, just in case"
   ]
  },
  {
   "cell_type": "code",
   "execution_count": null,
   "metadata": {
    "collapsed": false
   },
   "outputs": [],
   "source": []
  },
  {
   "cell_type": "code",
   "execution_count": null,
   "metadata": {
    "collapsed": true
   },
   "outputs": [],
   "source": []
  }
 ],
 "metadata": {
  "kernelspec": {
   "display_name": "Python 2",
   "language": "python",
   "name": "python2"
  },
  "language_info": {
   "codemirror_mode": {
    "name": "ipython",
    "version": 2
   },
   "file_extension": ".py",
   "mimetype": "text/x-python",
   "name": "python",
   "nbconvert_exporter": "python",
   "pygments_lexer": "ipython2",
   "version": "2.7.10"
  }
 },
 "nbformat": 4,
 "nbformat_minor": 0
}
