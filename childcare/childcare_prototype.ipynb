{
 "cells": [
  {
   "cell_type": "markdown",
   "metadata": {},
   "source": [
    "# The Cost of Child Care\n",
    "<b>Author</b>: Nicholas Hunt-Walker\n",
    "\n",
    "<b>Start Date</b>: January 16, 2016\n",
    "\n",
    "The major question that I want to answer is when is it better to be a stay-at-home parent instead of working and paying for child care? To answer that, though, I need to know how much does childcare cost over time, for however many kids may be had.\n",
    "\n",
    "There's tons of costs involved with childcare. I'll focus solely on the cost of day-care though, as those rates can be found easily online AND are the costs that can be eliminated by a stay-at-home parent. \n",
    "\n",
    "Note, I'm starting day care at the age of 12 months (1-year), and ending it when the kid first enters pre-K (I'm going with 4-years old, though many programs cater to 3-year-olds). I'll be examining the costs on a month-to-month basis, as that's when these costs are charged. I'm noting that day-care tends to be for only 9-months out of the year, but I'm going to push the costs over the full 12 months until later. I'm also assuming it's full-day care (7am - 6pm) 5 days per week. The time frame doesn't matter when considering the cost, but is more for context when discussing the results.\n",
    "\n",
    "I'm also including rate increases every September. I don't exactly know what those rate increases will be for any given day-care center, so I'm going to assume it keeps pace with the [cost of living](http://www.forbes.com/sites/lawrenceyun/2015/10/05/cost-of-living-adjustment-rising-to-3-in-2017-after-zilch-in-2016/#71affbcc1fa04490a9051fa0). My assumption will be a 4% increase annually, though I'll eventually make that a tunable parameter."
   ]
  },
  {
   "cell_type": "markdown",
   "metadata": {},
   "source": [
    "## Cost sources:\n",
    "Because I'm currently in Seattle, I'm going to use day-care centers in Seattle as my basis. Several taken from [this article on the best day care centers in 2015](http://best.king5.com/best/day-care/local-services/western-washington). Note, several centers in that link don't show costs on their sites.\n",
    "\n",
    "- [The Seattle Learning Center](http://seattlelearningcenter.com/enrollment/tuition-schedule/)\n",
    "    - 12 - 36 months: \\$1,872 per month\n",
    "    - 36 - 60 months: \\$1,619 - 1,783 per month\n",
    "    \n",
    "- [Little Eagles Child Development Center](http://www.littleeagles.org/Tuition.html)\n",
    "    - 1.5 - 15 months: \\$2,000 per month\n",
    "    - 12 - 28 months: \\$1,900 per month\n",
    "    - 21 - 36 months: \\$1,800 per month\n",
    "    - 30 - 72 months: \\$1,500 per month\n",
    "\n",
    "- [Tot Spot Kids DayCare](http://www.tot-spot-kids.com/#!rates-and-services)\n",
    "    - 0 - 24 months: \\$300 per week or \\$1,290 per month (4.3 weeks / month)\n",
    "    - 24 - 48 months: \\$1,290 per month (not potty trained); \\$250 per week (potty trained) or $\\1,075 per month\n",
    "    - 48+ months: \\$1,182.50 per month (not potty trained); \\$1,075 per month (potty trained)\n",
    "    \n",
    "- [Country Dawn Preschool](http://www.countrydawnpreschool.com/tuition-rates-2015-2016/)\n",
    "    - 1 - 12 months: \\$1,250 per month\n",
    "    - 12 - 18 months: \\$1,080 per month\n",
    "    - 18 - 24 months: \\$995\n",
    "    - 24 - 30 months: \\$995\n",
    "    - 30 - 36 months: \\$995\n",
    "    - 3 - 4 years: \\$930\n",
    "    - 4 - 5 years: \\$950\n",
    "\n",
    "- [Creative Sprouts](http://www.creativesprouts.org/program_info/tuition_info_and_forms)\n",
    "    - 2 years: \\$1,407 per month\n",
    "    - 3 years: \\$1,250 per month\n",
    "    - 4 years: \\$1,250\n",
    "\n",
    "- [Baby Sitter Rates](https://www.care.com/child-care/seattle-wa)\n",
    "    - Eyeball averaging \\$20 per hour or \\$4,730 per month (11 hrs / day, 5 days / week, 4.3 weeks / month)\n",
    "    - Seeing this cost, I don't want to use this in my main calculation, but I might later on for a comparison figure\n",
    "    "
   ]
  },
  {
   "cell_type": "code",
   "execution_count": 1,
   "metadata": {
    "collapsed": false
   },
   "outputs": [
    {
     "data": {
      "text/plain": [
       "'en_US.UTF-8'"
      ]
     },
     "execution_count": 1,
     "metadata": {},
     "output_type": "execute_result"
    }
   ],
   "source": [
    "import numpy as np\n",
    "import matplotlib.pyplot as plt\n",
    "%matplotlib inline\n",
    "import locale\n",
    "import datetime\n",
    "locale.setlocale(locale.LC_ALL,'')"
   ]
  },
  {
   "cell_type": "code",
   "execution_count": 2,
   "metadata": {
    "collapsed": false
   },
   "outputs": [],
   "source": [
    "avg_daycare_yr0_1 = np.mean([2000, 1250, 1290])\n",
    "avg_daycare_yr1_2 = np.mean([1872, 2000, 1900, 1290, 1250, 1080, 995])\n",
    "avg_daycare_yr2_3 = np.mean([1872, 1900, 1800, 1290, 1075, 995, 1407])\n",
    "avg_daycare_yr3_4 = np.mean([1619, 1783, 1500, 1290, 930, 1250])\n"
   ]
  },
  {
   "cell_type": "code",
   "execution_count": 3,
   "metadata": {
    "collapsed": false
   },
   "outputs": [
    {
     "data": {
      "image/png": "[encoded data removed]",
      "text/plain": [
       "<matplotlib.figure.Figure at 0x109ed76d0>"
      ]
     },
     "metadata": {},
     "output_type": "display_data"
    }
   ],
   "source": [
    "months = range(49)\n",
    "#the case of one child\n",
    "fig = plt.figure(figsize=(12,6))\n",
    "ax = plt.subplot(121)\n",
    "ax.plot(months[:12], avg_daycare_yr0_1*np.ones(12), color='k')\n",
    "ax.plot(months[12:24], avg_daycare_yr1_2*np.ones(12), color='b')\n",
    "ax.plot(months[24:36], avg_daycare_yr2_3*np.ones(12), color='r')\n",
    "ax.plot(months[36:], avg_daycare_yr3_4*np.ones(len(months[36:])), color='g')\n",
    "\n",
    "ax.minorticks_on()\n",
    "ax.set_xlabel(\"Months\")\n",
    "ax.set_ylabel(\"Cost (\\$)\")\n",
    "\n",
    "ax = plt.subplot(122)\n",
    "years = [1,2,3,4]\n",
    "total = [avg_daycare_yr0_1*12, avg_daycare_yr1_2*12, avg_daycare_yr2_3*12, avg_daycare_yr3_4*12]\n",
    "ax.bar(years, total, width=1.0)\n",
    "\n",
    "ax.minorticks_on()\n",
    "ax.set_xlabel(\"Years\")\n",
    "ax.set_ylabel(\"Total Cost\")\n",
    "\n",
    "plt.show()"
   ]
  },
  {
   "cell_type": "code",
   "execution_count": 4,
   "metadata": {
    "collapsed": true
   },
   "outputs": [],
   "source": [
    "cumulative = []\n",
    "\n",
    "for ii in months:\n",
    "    if ii <= 12:\n",
    "        cumulative.append(avg_daycare_yr0_1)\n",
    "    if (ii <= 24) & (ii > 12):\n",
    "        cumulative.append(avg_daycare_yr1_2 * 1.04)\n",
    "    if (ii <= 36) & (ii > 24):\n",
    "        cumulative.append(avg_daycare_yr2_3 * (1.04**2))\n",
    "    if (ii <= 48) & (ii > 36):\n",
    "        cumulative.append(avg_daycare_yr3_4 * (1.04**3))\n",
    "\n",
    "cumulative = np.cumsum(cumulative)"
   ]
  },
  {
   "cell_type": "code",
   "execution_count": 5,
   "metadata": {
    "collapsed": false
   },
   "outputs": [
    {
     "data": {
      "image/png": "[encoded data removed]",
      "text/plain": [
       "<matplotlib.figure.Figure at 0x10a2c3610>"
      ]
     },
     "metadata": {},
     "output_type": "display_data"
    }
   ],
   "source": [
    "fig = plt.figure(figsize=(10,4))\n",
    "\n",
    "ax = plt.subplot(111)\n",
    "ax.plot(months, cumulative, linewidth=2)\n",
    "ax.plot([12, 12], [0, 1E6], linestyle=\":\", color=\"k\")\n",
    "ax.plot([24, 24], [0, 1E6], linestyle=\":\", color=\"k\")\n",
    "ax.plot([36, 36], [0, 1E6], linestyle=\":\", color=\"k\")\n",
    "ax.plot([48, 48], [0, 1E6], linestyle=\":\", color=\"k\")\n",
    "\n",
    "ax.plot([0, 12], [cumulative[12], cumulative[12]], linestyle=\"--\", color=\"gray\")\n",
    "ax.plot([0, 24], [cumulative[24], cumulative[24]], linestyle=\"--\", color=\"gray\")\n",
    "ax.plot([0, 36], [cumulative[36], cumulative[36]], linestyle=\"--\", color=\"gray\")\n",
    "ax.plot([0, 48], [cumulative[48], cumulative[48]], linestyle=\"--\", color=\"gray\")\n",
    "\n",
    "ax.text(12 + 1, cumulative[12], \"%s\" % locale.currency(cumulative[12], grouping=True), horizontalalignment=\"left\", verticalalignment=\"top\")\n",
    "ax.text(24 + 1, cumulative[24], \"%s\" % locale.currency(cumulative[24], grouping=True), horizontalalignment=\"left\", verticalalignment=\"top\")\n",
    "ax.text(36 + 1, cumulative[36], \"%s\" % locale.currency(cumulative[36], grouping=True), horizontalalignment=\"left\", verticalalignment=\"top\")\n",
    "ax.text(48-5, cumulative[48] - 4000, \"%s\" % locale.currency(cumulative[48], grouping=True), horizontalalignment=\"right\", verticalalignment=\"center\")\n",
    "\n",
    "ax.scatter([12, 24, 36, 48], [cumulative[[12,24,36,48]]], edgecolor='k', c='r', s=100, linewidth=2)\n",
    "\n",
    "ax.minorticks_on()\n",
    "ax.set_xlim(0, 48)\n",
    "ax.set_ylim(0, 80000)\n",
    "ax.set_xlabel(\"Months\")\n",
    "ax.set_ylabel(\"Accumulated Cost ($)\")\n",
    "\n",
    "plt.savefig(\"childcare_cost.png\")\n",
    "plt.show()"
   ]
  },
  {
   "cell_type": "markdown",
   "metadata": {},
   "source": [
    "Next up: put this into a function and throw multiple kids into the mix"
   ]
  },
  {
   "cell_type": "code",
   "execution_count": 6,
   "metadata": {
    "collapsed": false
   },
   "outputs": [],
   "source": [
    "class Childcare(object):\n",
    "    def __init__(self, first_enrollment = None):\n",
    "        \"\"\"\n",
    "        This class will contain methods to add children that will be in full-time\n",
    "        day care, and calculate the costs of daycare with age.\n",
    "        \n",
    "        The date of first_enrollment must be a datetime object\n",
    "        \"\"\"\n",
    "        self.children = None\n",
    "        if type(first_enrollment) == type(None):\n",
    "            self.first_enrollment = datetime.datetime.now()\n",
    "        \n",
    "    def add_child(self, child):\n",
    "        \"\"\"\n",
    "        Add a child object to the family.\n",
    "        \"\"\"\n",
    "        if self.children == None:\n",
    "            yr_sep = None\n",
    "            self.children = [child]\n",
    "            \n",
    "        else:\n",
    "            self.children.append(child)\n",
    "    \n",
    "    def add_children(self, child_list):\n",
    "        \"\"\"Calls add_child for each child object in the list of children\"\"\"\n",
    "        if child_list != []:\n",
    "            for child in child_list:\n",
    "                self.add_child(child)\n",
    "        else:\n",
    "            raise Exception(\"You forgot to add a kid!\")\n",
    "            \n",
    "            \n",
    "    def calculate_cost(self, time_in_months = 48):\n",
    "        \"\"\"Calculates the cost of childcare over the\n",
    "            given time. Returns an array of arrays each spanning\n",
    "            the whole time frame and tracking one of the\n",
    "            children in child_list\n",
    "        \"\"\"\n",
    "        cost_array = np.zeros((len(self.children), time_in_months))\n",
    "        for ii in range(len(self.children)):\n",
    "            for jj in range(time_in_months):\n",
    "               \n",
    "                this_month_cost = self.age_check_cost(self.children[ii], self.add_months(jj))\n",
    "                the_rate = self.get_the_rate(self.add_months(jj))\n",
    "\n",
    "                cost_array[ii, jj] = this_month_cost * the_rate\n",
    "                    \n",
    "        self.cost_array = cost_array\n",
    "        return cost_array\n",
    "    \n",
    "    @staticmethod\n",
    "    def age_check_cost(child, current_date):\n",
    "        \"\"\"\n",
    "        If child is as old as or older than a given age, return True,\n",
    "        else return False.\n",
    "        \"\"\"\n",
    "        if (child.get_age(current_date) <= 12) & (child.get_age(current_date) >= 0):\n",
    "            return avg_daycare_yr0_1\n",
    "        \n",
    "        elif (child.get_age(current_date) <= 24) & (child.get_age(current_date) > 12):\n",
    "            return avg_daycare_yr1_2\n",
    "        \n",
    "        elif (child.get_age(current_date) <= 36) & (child.get_age(current_date) > 24):\n",
    "            return avg_daycare_yr2_3\n",
    "        \n",
    "        elif (child.get_age(current_date) <= 48) & (child.get_age(current_date) > 36):\n",
    "            return avg_daycare_yr3_4\n",
    "        \n",
    "        else:\n",
    "            return 0\n",
    "    \n",
    "    def add_months(self, more_months):\n",
    "        \"\"\"\n",
    "        Take the date of enrollment and add months to it.\n",
    "        \"\"\"\n",
    "        enroll_date = self.first_enrollment.strftime(\"%m-%Y\").split(\"-\")\n",
    "        enroll_month = eval(enroll_date[0])\n",
    "        enroll_year = eval(enroll_date[1])\n",
    "        \n",
    "        date_str = \"\"\n",
    "        output_month = (enroll_month + more_months) % 12\n",
    "        \n",
    "        if enroll_month + more_months > 12:\n",
    "            if (enroll_month + more_months) % 12 != 0:\n",
    "                output_year = enroll_year + (enroll_month + more_months) // 12\n",
    "            \n",
    "            else:\n",
    "                output_year = enroll_year + (enroll_month + more_months) // 12 - 1\n",
    "            \n",
    "        else:\n",
    "            output_year = enroll_year\n",
    "        \n",
    "        if output_month == 0:\n",
    "            output_month = 12\n",
    "\n",
    "        if output_month < 10:\n",
    "            date_str += \"0{0}\".format(output_month)\n",
    "\n",
    "        else:\n",
    "            date_str += \"{0}\".format(output_month)\n",
    "        \n",
    "        date_str += \"-{0}\".format(output_year)\n",
    "        return datetime.datetime.strptime(date_str, \"%m-%Y\")\n",
    "        \n",
    "    def get_the_rate(self, the_date):\n",
    "        \"\"\"\n",
    "        Gets a date and returns the inflated rate based on the relation to 2015's\n",
    "        prices\n",
    "        \"\"\"\n",
    "        if the_date >= datetime.datetime.strptime(\"09-01-2016\", \"%m-%d-%Y\"):\n",
    "            timediff = the_date - datetime.datetime.strptime(\"09-01-2016\", \"%m-%d-%Y\")\n",
    "            the_exponent = timediff.days // 365\n",
    "            return 1.04 ** the_exponent\n",
    "            \n",
    "        else:\n",
    "            return 1.0\n",
    "        \n",
    "    def visualize_costs(self, term = None):\n",
    "        if hasattr(self, \"cost_array\"):\n",
    "            costs = self.cost_array\n",
    "            if term > len(costs[0]):\n",
    "                term = len(costs[0])\n",
    "            \n",
    "        else:\n",
    "            if term:\n",
    "                costs = self.calculate_cost(term)\n",
    "                \n",
    "            else:\n",
    "                costs = self.calculate_cost(48)\n",
    "                term = 48\n",
    "        \n",
    "        fig = plt.figure(figsize=(10,6))\n",
    "\n",
    "        ax = plt.subplot2grid((2,2),(0,0))\n",
    "        for ii in range(len(costs)):\n",
    "            ax.plot(np.arange(term) / 12., costs[ii] / 1000., linestyle=\"--\", label=self.children[ii].name)\n",
    "            \n",
    "        ax.plot(np.arange(term) / 12., costs.sum(axis=0) / 1000., color='k', linewidth=2, label=\"Total\")\n",
    "        ax.legend(fontsize=10)\n",
    "        \n",
    "        ax.set_xlabel(\"Years\")\n",
    "        ax.set_ylabel(\"Monthly Cost ($1,000)\")\n",
    "        ax.minorticks_on()\n",
    "        \n",
    "        ax = plt.subplot2grid((2,2),(0,1))\n",
    "        ax.plot(np.arange(term) / 12., costs.sum(axis=0).cumsum() / 1000. , color='k', linewidth=2)\n",
    "        \n",
    "        ax.set_xlabel(\"Years\")\n",
    "        ax.set_ylabel(\"Accumulated Cost ($1,000)\")\n",
    "        ax.minorticks_on()\n",
    "\n",
    "        ax = plt.subplot2grid((2,2), (1,0), colspan=2)\n",
    "        sums = np.diff(costs.sum(axis=0).cumsum()[::12])\n",
    "        ax.bar(range(len(sums)), sums / 1000, width=1.0, edgecolor=\"white\")\n",
    "        \n",
    "        ax.set_ylabel(\"Annual Cost ($1,000)\")\n",
    "        ax.set_xlabel(\"Years\")\n",
    "        ax.minorticks_on()\n",
    "\n",
    "        plt.savefig(\"cost_breakdown.png\")\n",
    "        plt.show()\n",
    "\n",
    "        \n",
    "class Child(object):\n",
    "    \"\"\"A child object with name and birth date\"\"\"\n",
    "    def __init__(self, name, birthday):\n",
    "        \"\"\"\n",
    "        Input birthday as MM-DD-YYYY after 2015\n",
    "        \"\"\"\n",
    "        self.name = name\n",
    "        birthday = datetime.datetime.strptime(birthday, \"%m-%d-%Y\")\n",
    "            \n",
    "        if birthday < datetime.datetime.strptime(\"01-01-2015\", \"%m-%d-%Y\"):\n",
    "            raise Exception(\"The date of birth needs to be after Jan. 1st, 2015\")\n",
    "            \n",
    "        else:\n",
    "            self.birthday = birthday\n",
    "            \n",
    "    def get_age(self, current_date):\n",
    "        \"\"\"Compare an input date to the kid's birthday and get the number of\n",
    "        seconds that have passed.\"\"\"\n",
    "        if current_date > self.birthday:\n",
    "            if current_date.month >= self.birthday.month:\n",
    "                months = current_date.month - self.birthday.month\n",
    "                \n",
    "            else:\n",
    "                months = 12 + (current_date.month - self.birthday.month)\n",
    "\n",
    "            if current_date.year >= self.birthday.year:\n",
    "                if current_date.month - self.birthday.month < 0:\n",
    "                    years = (current_date.year - self.birthday.year) - 1\n",
    "                    \n",
    "                else:\n",
    "                    years = current_date.year - self.birthday.year\n",
    "\n",
    "            else:\n",
    "                years = 0\n",
    "\n",
    "            if years == 0:\n",
    "                return months\n",
    "\n",
    "            else:\n",
    "                return months + years*12\n",
    "            \n",
    "        elif current_date == self.birthday:\n",
    "            return 0\n",
    "        \n",
    "        else:\n",
    "            return -1\n",
    "        \n",
    "    def get_birthday(self):\n",
    "        print self.birthday.strftime(\"%B %d, %Y\")"
   ]
  },
  {
   "cell_type": "code",
   "execution_count": 7,
   "metadata": {
    "collapsed": false
   },
   "outputs": [],
   "source": [
    "c = Childcare()\n",
    "c.add_children([Child(\"Jim\", \"08-01-2016\"), \n",
    "                Child(\"Jane\", \"08-01-2018\")])"
   ]
  },
  {
   "cell_type": "code",
   "execution_count": 8,
   "metadata": {
    "collapsed": false
   },
   "outputs": [
    {
     "data": {
      "image/png": "[encoded data removed]",
      "text/plain": [
       "<matplotlib.figure.Figure at 0x109e49590>"
      ]
     },
     "metadata": {},
     "output_type": "display_data"
    }
   ],
   "source": [
    "c.visualize_costs(84)"
   ]
  },
  {
   "cell_type": "code",
   "execution_count": 9,
   "metadata": {
    "collapsed": false
   },
   "outputs": [
    {
     "name": "stdout",
     "output_type": "stream",
     "text": [
      "August 01, 2016\n",
      "August 01, 2018\n"
     ]
    }
   ],
   "source": [
    "for child in c.children:\n",
    "    child.get_birthday()"
   ]
  },
  {
   "cell_type": "code",
   "execution_count": null,
   "metadata": {
    "collapsed": true
   },
   "outputs": [],
   "source": []
  }
 ],
 "metadata": {
  "kernelspec": {
   "display_name": "Python 2",
   "language": "python",
   "name": "python2"
  },
  "language_info": {
   "codemirror_mode": {
    "name": "ipython",
    "version": 2
   },
   "file_extension": ".py",
   "mimetype": "text/x-python",
   "name": "python",
   "nbconvert_exporter": "python",
   "pygments_lexer": "ipython2",
   "version": "2.7.11"
  }
 },
 "nbformat": 4,
 "nbformat_minor": 0
}
